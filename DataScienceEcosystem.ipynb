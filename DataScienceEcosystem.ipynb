{
 "cells": [
  {
   "cell_type": "markdown",
   "id": "9bc6ed10",
   "metadata": {},
   "source": [
    "<h1>Data Science Tools and Ecosystem<h1>"
   ]
  },
  {
   "cell_type": "markdown",
   "id": "556d3d4f",
   "metadata": {},
   "source": [
    "<h2>In this notebook, Data Science Tools and Ecosystem are summarized.<h2>"
   ]
  },
  {
   "cell_type": "markdown",
   "id": "647f2278",
   "metadata": {},
   "source": [
    "<h3> Some of the popular languages that Data Scientists use are: <h3>"
   ]
  },
  {
   "cell_type": "markdown",
   "id": "fc19ebc0",
   "metadata": {},
   "source": [
    "<ol>\n",
    "<li>Python</li>\n",
    "<li>Java</li>\n",
    "<li>R</li>\n",
    " <li>Julia</li>\n",
    "</ol>"
   ]
  },
  {
   "cell_type": "markdown",
   "id": "4b734a07",
   "metadata": {},
   "source": [
    "<h3> Some of the commonly used libraries used by Data Scientists include:<h3>"
   ]
  },
  {
   "cell_type": "markdown",
   "id": "41322745",
   "metadata": {},
   "source": [
    "<ol>\n",
    "<li>TensorFlow</li>\n",
    "<li> NumPy</li>\n",
    "<li>PyTorch</li>\n",
    "<li>Keras</li>\n",
    "</ol>"
   ]
  },
  {
   "cell_type": "markdown",
   "id": "4793cdaa",
   "metadata": {},
   "source": [
    "| |Data Science Tools   ||\n",
    "| --- | --- | --- |\n",
    "| RStudio | Jupyter Notebook | IBM SPSS |"
   ]
  },
  {
   "cell_type": "markdown",
   "id": "b5cc36e3",
   "metadata": {},
   "source": [
    "<h3>Below are a few examples of evaluating arithmetic expressions in Python<h3>"
   ]
  },
  {
   "cell_type": "code",
   "execution_count": 5,
   "id": "ddc8d34b",
   "metadata": {},
   "outputs": [
    {
     "name": "stdout",
     "output_type": "stream",
     "text": [
      "17\n"
     ]
    }
   ],
   "source": [
    "#This a simple arithmetic expression to mutiply then add integers\n",
    "\n",
    "z= (3*4)+5\n",
    "\n",
    "print(z)\n"
   ]
  },
  {
   "cell_type": "code",
   "execution_count": 6,
   "id": "e944fe1a",
   "metadata": {},
   "outputs": [
    {
     "name": "stdout",
     "output_type": "stream",
     "text": [
      "3.3333333333333335\n"
     ]
    }
   ],
   "source": [
    "#This will convert 200 minutes to hours by diving by 60\n",
    "\n",
    "y= 200/60\n",
    "print(y)"
   ]
  },
  {
   "cell_type": "markdown",
   "id": "95088865",
   "metadata": {},
   "source": [
    "<h3> <b> Objectives:</b> List popular languages for Data Science <h3>\n",
    "    \n",
    "<ul>\n",
    "<li>Python</li>\n",
    "<li>Julia</li>\n",
    "<li>Java</li>\n",
    "<li>R</li>\n",
    "</ul>    \n",
    "    \n"
   ]
  },
  {
   "cell_type": "markdown",
   "id": "d9569b48",
   "metadata": {},
   "source": [
    "<h3>Author :  <h3>\n",
    "\n",
    "    "
   ]
  },
  {
   "cell_type": "markdown",
   "id": "9ca662ec",
   "metadata": {},
   "source": [
    "Lungisani Khanyile"
   ]
  },
  {
   "cell_type": "code",
   "execution_count": null,
   "id": "65072c56",
   "metadata": {},
   "outputs": [],
   "source": []
  }
 ],
 "metadata": {
  "kernelspec": {
   "display_name": "Python 3 (ipykernel)",
   "language": "python",
   "name": "python3"
  },
  "language_info": {
   "codemirror_mode": {
    "name": "ipython",
    "version": 3
   },
   "file_extension": ".py",
   "mimetype": "text/x-python",
   "name": "python",
   "nbconvert_exporter": "python",
   "pygments_lexer": "ipython3",
   "version": "3.9.7"
  }
 },
 "nbformat": 4,
 "nbformat_minor": 5
}
